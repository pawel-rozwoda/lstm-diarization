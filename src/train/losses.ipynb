{
 "cells": [
  {
   "cell_type": "code",
   "execution_count": null,
   "metadata": {},
   "outputs": [],
   "source": [
    "import pandas as pd\n",
    "import matplotlib.pyplot as plt\n",
    "\n",
    "import sys                                                                                                                                                            \n",
    "sys.path.append('../') \n",
    "from config import OUT_TRAIN\n",
    "\n",
    "\n",
    "OUT_DIR = OUT_TRAIN + '0731_22:38/' # constant samples\n",
    "# OUT_DIR = OUT_TRAIN + '0803_10:51/' # new approach\n",
    "\n",
    "\n",
    "\n",
    "train_losses = pd.read_csv(OUT_DIR + 'train_losses.csv', index_col=False, header=None)\n",
    "train_losses.columns = ['epoch','loss']\n",
    "\n",
    "validation_losses = pd.read_csv(OUT_DIR + 'validation_losses.csv', index_col=False, header = None)\n",
    "validation_losses.columns = ['epoch', 'loss']\n",
    "\n",
    "optional_validation_losses = pd.read_csv(OUT_DIR + 'optional_validation_losses.csv', index_col=False, header = None)\n",
    "optional_validation_losses.columns = ['epoch', 'loss']\n",
    "\n",
    "print(train_losses[-3:])\n",
    "print()\n",
    "print(validation_losses[-3:])\n",
    "print()\n",
    "print(optional_validation_losses[-3:])"
   ]
  },
  {
   "cell_type": "code",
   "execution_count": null,
   "metadata": {
    "scrolled": false
   },
   "outputs": [],
   "source": [
    "\n",
    "plt.figure(figsize=(20, 7))\n",
    "plt.xlabel('epoch')\n",
    "plt.ylabel('loss')\n",
    "\n",
    "\n",
    "plt.plot( 'epoch', 'loss', data=train_losses, marker='', color='olive', linewidth=1., linestyle='dashed', label=\"train\")\n",
    "plt.plot( 'epoch', 'loss', data=validation_losses, marker='', markerfacecolor='blue', markersize=12., color='skyblue', linewidth=1, label=\"validation\")\n",
    "plt.plot( 'epoch', 'loss', data=optional_validation_losses, marker='', markerfacecolor='blue', markersize=12., color='purple', linewidth=1, label=\"callhome\", linestyle='dashdot')\n",
    "plt.legend()"
   ]
  },
  {
   "cell_type": "markdown",
   "metadata": {},
   "source": [
    "# Sub area loss"
   ]
  },
  {
   "cell_type": "code",
   "execution_count": null,
   "metadata": {},
   "outputs": [],
   "source": [
    "plt.figure(figsize=(20, 7))\n",
    "plt.xlabel('epoch')\n",
    "plt.ylabel('loss')\n",
    "bottom = 200\n",
    "top = 250\n",
    "# bottom=0\n",
    "# top=50\n",
    "sub_train_losses = train_losses[bottom:top]\n",
    "sub_validation_losses = validation_losses[bottom:top]\n",
    "sub_optional_validation_losses = optional_validation_losses[bottom:top]\n",
    "plt.plot( 'epoch', 'loss', data=sub_train_losses, marker='', color='olive', linewidth=1, linestyle='dashed', label=\"train\")\n",
    "plt.plot( 'epoch', 'loss', data=sub_validation_losses, marker='', markerfacecolor='blue', markersize=12, color='skyblue', linewidth=1, label=\"validation\")\n",
    "plt.plot( 'epoch', 'loss', data=sub_optional_validation_losses, marker='', markerfacecolor='purple', markersize=12, color='purple', linewidth=1, label=\"callhome\", linestyle='dashdot')\n",
    "plt.legend()"
   ]
  },
  {
   "cell_type": "code",
   "execution_count": null,
   "metadata": {},
   "outputs": [],
   "source": [
    "plt.figure(figsize=(14, 7))\n",
    "plt.xlabel('epoch')\n",
    "plt.ylabel('learning rate')\n",
    "lrs = pd.read_csv(OUT_DIR + 'lrs.csv', index_col=False, header=None)\n",
    "lrs.columns = ['epoch','lr']\n",
    "plt.plot( 'epoch', 'lr', data=lrs, marker='', markerfacecolor='blue', markersize=12, color='skyblue', linewidth=2, label=\"lr\")\n",
    "# plt.legend()"
   ]
  }
 ],
 "metadata": {
  "kernelspec": {
   "display_name": "Python 3",
   "language": "python",
   "name": "python3"
  },
  "language_info": {
   "codemirror_mode": {
    "name": "ipython",
    "version": 3
   },
   "file_extension": ".py",
   "mimetype": "text/x-python",
   "name": "python",
   "nbconvert_exporter": "python",
   "pygments_lexer": "ipython3",
   "version": "3.6.10"
  }
 },
 "nbformat": 4,
 "nbformat_minor": 4
}
