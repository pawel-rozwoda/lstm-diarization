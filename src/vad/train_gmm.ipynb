{
 "cells": [
  {
   "cell_type": "code",
   "execution_count": null,
   "metadata": {},
   "outputs": [],
   "source": [
    "import sys\n",
    "sys.path.append('../')\n",
    "from aux import Cluster, load_audio, int16_to_float\n",
    "from config import GMM_TRAIN, VOX_1_TEST_PATH, CALLHOME_ENG_10_SEC\n",
    "import os\n",
    "import matplotlib.pyplot as plt\n",
    "from config import GMM_FILE\n",
    "import numpy as np\n",
    "from librosa.core import get_samplerate"
   ]
  },
  {
   "cell_type": "code",
   "execution_count": null,
   "metadata": {},
   "outputs": [],
   "source": [
    "display_path = VOX_1_TEST_PATH + 'wav/id10270/5r0dWxy17C8/'\n",
    "gmm_dirs = os.listdir(GMM_TRAIN)\n",
    "print(gmm_dirs)"
   ]
  },
  {
   "cell_type": "code",
   "execution_count": null,
   "metadata": {},
   "outputs": [],
   "source": [
    "to_improve = ['4824', '4622','6100','4537','4145','0638']"
   ]
  },
  {
   "cell_type": "code",
   "execution_count": null,
   "metadata": {},
   "outputs": [],
   "source": [
    "vad_gmm = None\n",
    "train_file = GMM_TRAIN + '/wav/id10270/5r0dWxy17C8/00001.wav'\n",
    "train_sampling_rate =get_samplerate(train_file)\n",
    "print(os.listdir(GMM_TRAIN))\n",
    "\n",
    "_, gmm_audio = load_audio(train_file, train_sampling_rate, mono=True)\n",
    "print('train sr: ', train_sampling_rate)\n",
    "vad_gmm = Cluster()\n",
    "\n",
    "# vad_gmm.fit(stereo_to_mono(gmm_audio[0], gmm_audio[1]))\n",
    "vad_gmm.fit(gmm_audio, sampling_rate=16000)\n",
    "\n",
    "\n"
   ]
  },
  {
   "cell_type": "code",
   "execution_count": null,
   "metadata": {
    "scrolled": false
   },
   "outputs": [],
   "source": [
    "\n",
    "# for i, f in enumerate(to_improve):\n",
    "#     if i==5: break\n",
    "    \n",
    "#     eval_file = CALLHOME_ENG_10_SEC + f + '.wav'\n",
    "#     eval_sampling_rate =get_samplerate(eval_file)\n",
    "#     print(eval_file)\n",
    "\n",
    "#     _, audio = load_audio(eval_file, eval_sampling_rate, mono=False)\n",
    "    \n",
    "#     ch_0, ch_1 = audio[0], audio[1]\n",
    "#     _, mono = load_audio(eval_file, eval_sampling_rate, mono=True)\n",
    "    \n",
    "#     sp_0 = vad_gmm.detect_speech(signal=ch_0, sampling_rate=eval_sampling_rate, fit_to_audio=True)\n",
    "#     sp_1 = vad_gmm.detect_speech(signal=ch_1, sampling_rate=eval_sampling_rate, fit_to_audio=True)\n",
    "#     mono_speech = vad_gmm.detect_speech(signal=mono, sampling_rate=eval_sampling_rate, fit_to_audio=True)\n",
    "    \n",
    "#     ch_0, ch_1 = ch_0/32768., ch_1/32768.\n",
    "#     mono = mono/32768.\n",
    "#     print(ch_0.shape)\n",
    "#     print(mono.shape)\n",
    "    \n",
    "#     plt.figure(figsize=(14, 5))\n",
    "#     plt.subplot(3, 1, 1)\n",
    "#     plt.ylim(-1., 1.)\n",
    "#     plt.title('channel 0')\n",
    "#     plt.fill_between(range(sp_0.shape[0]), sp_0 * .8,color='orange', alpha=0.3)\n",
    "#     plt.plot(ch_0, alpha=0.73)\n",
    "    \n",
    "#     plt.subplot(3, 1, 2)\n",
    "#     plt.ylim(-1., 1.)\n",
    "#     plt.title('channel 1')\n",
    "#     plt.fill_between(range(sp_1.shape[0]), sp_1 * .8,color='green', alpha=0.3)\n",
    "#     plt.plot(ch_1, alpha=0.73)\n",
    "\n",
    "#     plt.subplot(3, 1, 3)\n",
    "#     plt.ylim(-1., 1.)\n",
    "#     plt.title('mono')\n",
    "#     plt.fill_between(range(mono_speech.shape[0]), mono_speech * .8,color='gray', alpha=0.3)\n",
    "#     plt.plot(mono, alpha=0.73)\n",
    "    \n",
    "    \n",
    "#     plt.show()\n",
    "\n",
    "    \n",
    "    \n"
   ]
  },
  {
   "cell_type": "code",
   "execution_count": null,
   "metadata": {},
   "outputs": [],
   "source": [
    "result = vad_gmm.gmm._get_parameters()\n",
    "print(result)"
   ]
  },
  {
   "cell_type": "markdown",
   "metadata": {},
   "source": [
    "# Saving VAD model"
   ]
  },
  {
   "cell_type": "code",
   "execution_count": null,
   "metadata": {},
   "outputs": [],
   "source": [
    "import pickle5\n",
    "from config import GMM_FILE\n",
    "print(GMM_FILE)\n",
    "\n",
    "with open(GMM_FILE, 'wb') as fid:\n",
    "    pickle5.dump(vad_gmm, fid)"
   ]
  },
  {
   "cell_type": "code",
   "execution_count": null,
   "metadata": {},
   "outputs": [],
   "source": []
  }
 ],
 "metadata": {
  "kernelspec": {
   "display_name": "Python 3",
   "language": "python",
   "name": "python3"
  },
  "language_info": {
   "codemirror_mode": {
    "name": "ipython",
    "version": 3
   },
   "file_extension": ".py",
   "mimetype": "text/x-python",
   "name": "python",
   "nbconvert_exporter": "python",
   "pygments_lexer": "ipython3",
   "version": "3.6.10"
  }
 },
 "nbformat": 4,
 "nbformat_minor": 4
}
