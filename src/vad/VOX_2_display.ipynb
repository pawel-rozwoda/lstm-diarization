{
 "cells": [
  {
   "cell_type": "markdown",
   "metadata": {},
   "source": [
    "# Vad on 2'nd vox dataset"
   ]
  },
  {
   "cell_type": "code",
   "execution_count": null,
   "metadata": {
    "scrolled": false
   },
   "outputs": [],
   "source": [
    "import sys\n",
    "sys.path.append('../')\n",
    "from config import GMM_FILE, VOX_2_PATH\n",
    "from aux import Cluster, load_audio, int16_to_float\n",
    "import matplotlib.pyplot as plt\n",
    "import numpy as np\n",
    "import os\n",
    "from tqdm import tqdm\n",
    "import pickle5\n",
    "import warnings\n",
    "\n",
    "warnings.filterwarnings(\"ignore\")\n",
    "SRC = VOX_2_PATH + 'aac/id00056/EEjaqWQ99uI/'\n",
    "\n",
    "\n",
    "vad_cluster=None\n",
    "\n",
    "\"\"\"reading ultimate gmm pkl\"\"\"\n",
    "with open(GMM_FILE, 'rb') as fid:\n",
    "    vad_cluster =pickle5.load(fid)\n",
    "    \n",
    "for filename in os.listdir(SRC):\n",
    "    plt.figure(figsize=(14, 5))\n",
    "    print(filename)\n",
    "\n",
    "    sample_rate, audio = load_audio(SRC + filename, 16000, mono=True)    \n",
    "    speech = vad_cluster.detect_speech(signal=audio, fit_to_audio=True)\n",
    "\n",
    "    plt.subplot(1, 1, 1)\n",
    "    plt.ylim(-1., 1.)\n",
    "    plt.plot(int16_to_float(audio))\n",
    "    plt.title('single channel audio', x=.5, y=.6)\n",
    "    plt.fill_between(range(speech.shape[0]), speech * .8,color='orange', alpha=0.3)\n",
    "\n",
    "    plt.show()"
   ]
  },
  {
   "cell_type": "code",
   "execution_count": null,
   "metadata": {},
   "outputs": [],
   "source": []
  },
  {
   "cell_type": "code",
   "execution_count": null,
   "metadata": {},
   "outputs": [],
   "source": []
  }
 ],
 "metadata": {
  "kernelspec": {
   "display_name": "Python 3",
   "language": "python",
   "name": "python3"
  },
  "language_info": {
   "codemirror_mode": {
    "name": "ipython",
    "version": 3
   },
   "file_extension": ".py",
   "mimetype": "text/x-python",
   "name": "python",
   "nbconvert_exporter": "python",
   "pygments_lexer": "ipython3",
   "version": "3.6.10"
  }
 },
 "nbformat": 4,
 "nbformat_minor": 4
}
