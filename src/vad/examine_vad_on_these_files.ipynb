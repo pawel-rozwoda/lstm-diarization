{
 "cells": [
  {
   "cell_type": "code",
   "execution_count": null,
   "metadata": {},
   "outputs": [],
   "source": [
    "import sys\n",
    "sys.path.append('../')\n",
    "\n",
    "from aux import Cluster, load_audio, int16_to_float\n",
    "from config import GMM_TRAIN, CALLHOME_ENG_10_SEC, GMM_FILE\n",
    "import os\n",
    "import matplotlib.pyplot as plt\n",
    "from librosa.core import get_samplerate"
   ]
  },
  {
   "cell_type": "code",
   "execution_count": null,
   "metadata": {},
   "outputs": [],
   "source": [
    "gmm_dirs = os.listdir(GMM_TRAIN)\n",
    "print(gmm_dirs)"
   ]
  },
  {
   "cell_type": "code",
   "execution_count": null,
   "metadata": {},
   "outputs": [],
   "source": [
    "selected_dir = gmm_dirs[0]\n",
    "print(selected_dir)"
   ]
  },
  {
   "cell_type": "code",
   "execution_count": null,
   "metadata": {},
   "outputs": [],
   "source": [
    "to_improve = ['4824', '4622','6100','4537','4145','0638']"
   ]
  },
  {
   "cell_type": "markdown",
   "metadata": {},
   "source": [
    "# Loading vad"
   ]
  },
  {
   "cell_type": "code",
   "execution_count": null,
   "metadata": {},
   "outputs": [],
   "source": [
    "import pickle5\n",
    "vad_gmm=None\n",
    "with open(GMM_FILE, 'rb') as fid:\n",
    "    vad_gmm = pickle5.load(fid)"
   ]
  },
  {
   "cell_type": "code",
   "execution_count": null,
   "metadata": {},
   "outputs": [],
   "source": [
    "print(type(vad_gmm))"
   ]
  },
  {
   "cell_type": "code",
   "execution_count": null,
   "metadata": {},
   "outputs": [],
   "source": [
    "for f in to_improve:\n",
    "    f_name = CALLHOME_ENG_10_SEC + f + '.wav'\n",
    "    sampling_rate = get_samplerate(f_name)\n",
    "    _, audio = load_audio(f_name, sampling_rate, mono=False)\n",
    "        \n",
    "    plt.figure(figsize=(14, 5))\n",
    "    ch_0, ch_1 = audio[0], audio[1]\n",
    "    sp_0 = vad_gmm.detect_speech(signal=ch_0, sampling_rate=sampling_rate, fit_to_audio=True)\n",
    "    sp_1 = vad_gmm.detect_speech(signal=ch_1, sampling_rate=sampling_rate, fit_to_audio=True)\n",
    "\n",
    "    plt.subplot(2, 1, 1)\n",
    "    plt.ylim(-1., 1.)\n",
    "    \n",
    "    plt.title('channel 0')\n",
    "    plt.fill_between(range(sp_0.shape[0]), sp_0 * .8,color='orange', alpha=0.3)\n",
    "    plt.plot(int16_to_float(ch_0), alpha=0.73)\n",
    "    \n",
    "    plt.subplot(2, 1, 2)\n",
    "    plt.ylim(-1., 1.)\n",
    "    \n",
    "    plt.title('channel 1')\n",
    "    plt.fill_between(range(sp_1.shape[0]), sp_1 * .8,color='green', alpha=0.3)\n",
    "    plt.plot(int16_to_float(ch_1), alpha=0.73)\n",
    "    plt.show()"
   ]
  }
 ],
 "metadata": {
  "kernelspec": {
   "display_name": "Python 3",
   "language": "python",
   "name": "python3"
  },
  "language_info": {
   "codemirror_mode": {
    "name": "ipython",
    "version": 3
   },
   "file_extension": ".py",
   "mimetype": "text/x-python",
   "name": "python",
   "nbconvert_exporter": "python",
   "pygments_lexer": "ipython3",
   "version": "3.6.10"
  }
 },
 "nbformat": 4,
 "nbformat_minor": 4
}
