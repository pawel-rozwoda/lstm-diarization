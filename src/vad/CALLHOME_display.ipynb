{
 "cells": [
  {
   "cell_type": "code",
   "execution_count": null,
   "metadata": {
    "scrolled": false
   },
   "outputs": [],
   "source": [
    "import sys\n",
    "sys.path.append('../')\n",
    "from config import CALLHOME_ENG_10_SEC, GMM_FILE\n",
    "from aux import Cluster, load_audio, int16_to_float\n",
    "import matplotlib.pyplot as plt\n",
    "import numpy as np\n",
    "import os\n",
    "from tqdm import tqdm\n",
    "import pickle5\n",
    "\n",
    "\n",
    "\n",
    "SRC = CALLHOME_ENG_10_SEC\n",
    "vad_cluster=None\n",
    "\n",
    "\"\"\"reading ultimate gmm pkl\"\"\"\n",
    "with open(GMM_FILE, 'rb') as fid:\n",
    "    vad_cluster = pickle5.load(fid)\n",
    "    \n",
    "\n",
    "for i, filename in enumerate(os.listdir(SRC)):\n",
    "    if i==5:\n",
    "        break;\n",
    "    plt.figure(figsize=(14, 5))\n",
    "    print(filename)\n",
    "\n",
    "    _, audio = load_audio(SRC + filename, 8000, mono=False)\n",
    "    channel_0, channel_1 = audio[0], audio[1]\n",
    "    \n",
    "    _, mono = load_audio(SRC + filename, 8000, mono=True)\n",
    "    \n",
    "    speech_0 = vad_cluster.detect_speech(signal=channel_0, sampling_rate=8000, fit_to_audio=True)\n",
    "    speech_1 = vad_cluster.detect_speech(signal=channel_1, sampling_rate=8000, fit_to_audio=True)\n",
    "    mono_speech = vad_cluster.detect_speech(signal=mono, sampling_rate=8000, fit_to_audio=True)\n",
    "    \n",
    "    \"\"\"pykaldi expect int16, not float\"\"\"\n",
    "\n",
    "\n",
    "\n",
    "    plt.subplot(3, 1, 1)\n",
    "    plt.ylim(-1., 1.)\n",
    "    plt.plot(int16_to_float(channel_0))\n",
    "    plt.title('channel_0', x=.5, y=.6)\n",
    "    plt.fill_between(range(speech_0.shape[0]), speech_0 * .8,color='orange', alpha=0.3)\n",
    "\n",
    "    plt.subplot(3, 1, 2)\n",
    "    plt.ylim(-1., 1.)\n",
    "    plt.plot(int16_to_float(channel_1))\n",
    "    plt.title('channel_1', x=.5, y=.6)\n",
    "    plt.fill_between(range(speech_1.shape[0]), speech_1 * .8,color='green', alpha=0.3)\n",
    "\n",
    "    plt.subplot(3, 1, 3)\n",
    "#     plt.ylim(-1., 1.)\n",
    "    plt.plot(int16_to_float(mono))\n",
    "    plt.title('mono', x=.6, y=.6)\n",
    "    plt.fill_between(range(mono_speech.shape[0]), mono_speech * .8,color='blue', alpha=0.3)\n",
    "    plt.show()\n",
    "    \n",
    "    # print('there is no intersection of speaker_1 and speaker_2\\n\\t', np.sum(speech_0 * speech_1) == 0)\n"
   ]
  }
 ],
 "metadata": {
  "kernelspec": {
   "display_name": "Python 3",
   "language": "python",
   "name": "python3"
  },
  "language_info": {
   "codemirror_mode": {
    "name": "ipython",
    "version": 3
   },
   "file_extension": ".py",
   "mimetype": "text/x-python",
   "name": "python",
   "nbconvert_exporter": "python",
   "pygments_lexer": "ipython3",
   "version": "3.6.10"
  }
 },
 "nbformat": 4,
 "nbformat_minor": 4
}
